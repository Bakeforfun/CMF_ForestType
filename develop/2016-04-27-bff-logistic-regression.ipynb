{
 "cells": [
  {
   "cell_type": "markdown",
   "metadata": {},
   "source": [
    "# CMF Data Analysis Training"
   ]
  },
  {
   "cell_type": "markdown",
   "metadata": {},
   "source": [
    "## Initialisation"
   ]
  },
  {
   "cell_type": "code",
   "execution_count": 58,
   "metadata": {
    "collapsed": true
   },
   "outputs": [],
   "source": [
    "import pandas as pd\n",
    "import numpy as np\n",
    "from sklearn.cross_validation import train_test_split\n",
    "from sklearn.preprocessing import LabelEncoder\n",
    "from sklearn.linear_model import LogisticRegression\n",
    "from sklearn.metrics import log_loss\n",
    "from sklearn.grid_search import GridSearchCV\n",
    "%matplotlib inline"
   ]
  },
  {
   "cell_type": "code",
   "execution_count": 2,
   "metadata": {
    "collapsed": false
   },
   "outputs": [
    {
     "ename": "ImportError",
     "evalue": "No module named 'cPickle'",
     "output_type": "error",
     "traceback": [
      "\u001b[1;31m---------------------------------------------------------------------------\u001b[0m",
      "\u001b[1;31mImportError\u001b[0m                               Traceback (most recent call last)",
      "\u001b[1;32m<ipython-input-2-fab7b6bb2433>\u001b[0m in \u001b[0;36m<module>\u001b[1;34m()\u001b[0m\n\u001b[1;32m----> 1\u001b[1;33m \u001b[0mget_ipython\u001b[0m\u001b[1;33m(\u001b[0m\u001b[1;33m)\u001b[0m\u001b[1;33m.\u001b[0m\u001b[0mmagic\u001b[0m\u001b[1;33m(\u001b[0m\u001b[1;34m'load_ext ipycache'\u001b[0m\u001b[1;33m)\u001b[0m\u001b[1;33m\u001b[0m\u001b[0m\n\u001b[0m",
      "\u001b[1;32mC:\\Users\\Internet\\Anaconda3\\lib\\site-packages\\IPython\\core\\interactiveshell.py\u001b[0m in \u001b[0;36mmagic\u001b[1;34m(self, arg_s)\u001b[0m\n\u001b[0;32m   2334\u001b[0m \u001b[1;33m\u001b[0m\u001b[0m\n\u001b[0;32m   2335\u001b[0m     \u001b[1;32mdef\u001b[0m \u001b[0mauto_rewrite_input\u001b[0m\u001b[1;33m(\u001b[0m\u001b[0mself\u001b[0m\u001b[1;33m,\u001b[0m \u001b[0mcmd\u001b[0m\u001b[1;33m)\u001b[0m\u001b[1;33m:\u001b[0m\u001b[1;33m\u001b[0m\u001b[0m\n\u001b[1;32m-> 2336\u001b[1;33m         \"\"\"Print to the screen the rewritten form of the user's command.\n\u001b[0m\u001b[0;32m   2337\u001b[0m \u001b[1;33m\u001b[0m\u001b[0m\n\u001b[0;32m   2338\u001b[0m         \u001b[0mThis\u001b[0m \u001b[0mshows\u001b[0m \u001b[0mvisual\u001b[0m \u001b[0mfeedback\u001b[0m \u001b[0mby\u001b[0m \u001b[0mrewriting\u001b[0m \u001b[0minput\u001b[0m \u001b[0mlines\u001b[0m \u001b[0mthat\u001b[0m \u001b[0mcause\u001b[0m\u001b[1;33m\u001b[0m\u001b[0m\n",
      "\u001b[1;32mC:\\Users\\Internet\\Anaconda3\\lib\\site-packages\\IPython\\core\\interactiveshell.py\u001b[0m in \u001b[0;36mrun_line_magic\u001b[1;34m(self, magic_name, line)\u001b[0m\n\u001b[0;32m   2255\u001b[0m                 \u001b[0mself\u001b[0m\u001b[1;33m.\u001b[0m\u001b[0mwrite_err\u001b[0m\u001b[1;33m(\u001b[0m\u001b[1;34m'\\n'\u001b[0m \u001b[1;33m+\u001b[0m \u001b[0mself\u001b[0m\u001b[1;33m.\u001b[0m\u001b[0mget_exception_only\u001b[0m\u001b[1;33m(\u001b[0m\u001b[1;33m)\u001b[0m\u001b[1;33m)\u001b[0m\u001b[1;33m\u001b[0m\u001b[0m\n\u001b[0;32m   2256\u001b[0m                 \u001b[0mec\u001b[0m \u001b[1;33m=\u001b[0m \u001b[1;36m130\u001b[0m\u001b[1;33m\u001b[0m\u001b[0m\n\u001b[1;32m-> 2257\u001b[1;33m             \u001b[1;32mif\u001b[0m \u001b[0mec\u001b[0m \u001b[1;33m>\u001b[0m \u001b[1;36m128\u001b[0m\u001b[1;33m:\u001b[0m\u001b[1;33m\u001b[0m\u001b[0m\n\u001b[0m\u001b[0;32m   2258\u001b[0m                 \u001b[0mec\u001b[0m \u001b[1;33m=\u001b[0m \u001b[1;33m-\u001b[0m\u001b[1;33m(\u001b[0m\u001b[0mec\u001b[0m \u001b[1;33m-\u001b[0m \u001b[1;36m128\u001b[0m\u001b[1;33m)\u001b[0m\u001b[1;33m\u001b[0m\u001b[0m\n\u001b[0;32m   2259\u001b[0m \u001b[1;33m\u001b[0m\u001b[0m\n",
      "\u001b[1;32m<decorator-gen-65>\u001b[0m in \u001b[0;36mload_ext\u001b[1;34m(self, module_str)\u001b[0m\n",
      "\u001b[1;32mC:\\Users\\Internet\\Anaconda3\\lib\\site-packages\\IPython\\core\\magic.py\u001b[0m in \u001b[0;36m<lambda>\u001b[1;34m(f, *a, **k)\u001b[0m\n\u001b[0;32m    191\u001b[0m     \u001b[1;31m# but it's overkill for just that one bit of state.\u001b[0m\u001b[1;33m\u001b[0m\u001b[1;33m\u001b[0m\u001b[0m\n\u001b[0;32m    192\u001b[0m     \u001b[1;32mdef\u001b[0m \u001b[0mmagic_deco\u001b[0m\u001b[1;33m(\u001b[0m\u001b[0marg\u001b[0m\u001b[1;33m)\u001b[0m\u001b[1;33m:\u001b[0m\u001b[1;33m\u001b[0m\u001b[0m\n\u001b[1;32m--> 193\u001b[1;33m         \u001b[0mcall\u001b[0m \u001b[1;33m=\u001b[0m \u001b[1;32mlambda\u001b[0m \u001b[0mf\u001b[0m\u001b[1;33m,\u001b[0m \u001b[1;33m*\u001b[0m\u001b[0ma\u001b[0m\u001b[1;33m,\u001b[0m \u001b[1;33m**\u001b[0m\u001b[0mk\u001b[0m\u001b[1;33m:\u001b[0m \u001b[0mf\u001b[0m\u001b[1;33m(\u001b[0m\u001b[1;33m*\u001b[0m\u001b[0ma\u001b[0m\u001b[1;33m,\u001b[0m \u001b[1;33m**\u001b[0m\u001b[0mk\u001b[0m\u001b[1;33m)\u001b[0m\u001b[1;33m\u001b[0m\u001b[0m\n\u001b[0m\u001b[0;32m    194\u001b[0m \u001b[1;33m\u001b[0m\u001b[0m\n\u001b[0;32m    195\u001b[0m         \u001b[1;32mif\u001b[0m \u001b[0mcallable\u001b[0m\u001b[1;33m(\u001b[0m\u001b[0marg\u001b[0m\u001b[1;33m)\u001b[0m\u001b[1;33m:\u001b[0m\u001b[1;33m\u001b[0m\u001b[0m\n",
      "\u001b[1;32mC:\\Users\\Internet\\Anaconda3\\lib\\site-packages\\IPython\\core\\magics\\extension.py\u001b[0m in \u001b[0;36mload_ext\u001b[1;34m(self, module_str)\u001b[0m\n\u001b[0;32m     64\u001b[0m         \u001b[1;32mif\u001b[0m \u001b[1;32mnot\u001b[0m \u001b[0mmodule_str\u001b[0m\u001b[1;33m:\u001b[0m\u001b[1;33m\u001b[0m\u001b[0m\n\u001b[0;32m     65\u001b[0m             \u001b[1;32mraise\u001b[0m \u001b[0mUsageError\u001b[0m\u001b[1;33m(\u001b[0m\u001b[1;34m'Missing module name.'\u001b[0m\u001b[1;33m)\u001b[0m\u001b[1;33m\u001b[0m\u001b[0m\n\u001b[1;32m---> 66\u001b[1;33m         \u001b[0mres\u001b[0m \u001b[1;33m=\u001b[0m \u001b[0mself\u001b[0m\u001b[1;33m.\u001b[0m\u001b[0mshell\u001b[0m\u001b[1;33m.\u001b[0m\u001b[0mextension_manager\u001b[0m\u001b[1;33m.\u001b[0m\u001b[0mload_extension\u001b[0m\u001b[1;33m(\u001b[0m\u001b[0mmodule_str\u001b[0m\u001b[1;33m)\u001b[0m\u001b[1;33m\u001b[0m\u001b[0m\n\u001b[0m\u001b[0;32m     67\u001b[0m \u001b[1;33m\u001b[0m\u001b[0m\n\u001b[0;32m     68\u001b[0m         \u001b[1;32mif\u001b[0m \u001b[0mres\u001b[0m \u001b[1;33m==\u001b[0m \u001b[1;34m'already loaded'\u001b[0m\u001b[1;33m:\u001b[0m\u001b[1;33m\u001b[0m\u001b[0m\n",
      "\u001b[1;32mC:\\Users\\Internet\\Anaconda3\\lib\\site-packages\\IPython\\core\\extensions.py\u001b[0m in \u001b[0;36mload_extension\u001b[1;34m(self, module_str)\u001b[0m\n\u001b[0;32m     82\u001b[0m             \u001b[1;32mif\u001b[0m \u001b[0mmodule_str\u001b[0m \u001b[1;32mnot\u001b[0m \u001b[1;32min\u001b[0m \u001b[0msys\u001b[0m\u001b[1;33m.\u001b[0m\u001b[0mmodules\u001b[0m\u001b[1;33m:\u001b[0m\u001b[1;33m\u001b[0m\u001b[0m\n\u001b[0;32m     83\u001b[0m                 \u001b[1;32mwith\u001b[0m \u001b[0mprepended_to_syspath\u001b[0m\u001b[1;33m(\u001b[0m\u001b[0mself\u001b[0m\u001b[1;33m.\u001b[0m\u001b[0mipython_extension_dir\u001b[0m\u001b[1;33m)\u001b[0m\u001b[1;33m:\u001b[0m\u001b[1;33m\u001b[0m\u001b[0m\n\u001b[1;32m---> 84\u001b[1;33m                     \u001b[0m__import__\u001b[0m\u001b[1;33m(\u001b[0m\u001b[0mmodule_str\u001b[0m\u001b[1;33m)\u001b[0m\u001b[1;33m\u001b[0m\u001b[0m\n\u001b[0m\u001b[0;32m     85\u001b[0m             \u001b[0mmod\u001b[0m \u001b[1;33m=\u001b[0m \u001b[0msys\u001b[0m\u001b[1;33m.\u001b[0m\u001b[0mmodules\u001b[0m\u001b[1;33m[\u001b[0m\u001b[0mmodule_str\u001b[0m\u001b[1;33m]\u001b[0m\u001b[1;33m\u001b[0m\u001b[0m\n\u001b[0;32m     86\u001b[0m             \u001b[1;32mif\u001b[0m \u001b[0mself\u001b[0m\u001b[1;33m.\u001b[0m\u001b[0m_call_load_ipython_extension\u001b[0m\u001b[1;33m(\u001b[0m\u001b[0mmod\u001b[0m\u001b[1;33m)\u001b[0m\u001b[1;33m:\u001b[0m\u001b[1;33m\u001b[0m\u001b[0m\n",
      "\u001b[1;32mC:\\Users\\Internet\\Anaconda3\\lib\\site-packages\\ipycache.py\u001b[0m in \u001b[0;36m<module>\u001b[1;34m()\u001b[0m\n\u001b[0;32m      9\u001b[0m \u001b[1;33m\u001b[0m\u001b[0m\n\u001b[0;32m     10\u001b[0m \u001b[1;31m# Stdlib\u001b[0m\u001b[1;33m\u001b[0m\u001b[1;33m\u001b[0m\u001b[0m\n\u001b[1;32m---> 11\u001b[1;33m \u001b[1;32mimport\u001b[0m \u001b[0minspect\u001b[0m\u001b[1;33m,\u001b[0m \u001b[0mos\u001b[0m\u001b[1;33m,\u001b[0m \u001b[0msys\u001b[0m\u001b[1;33m,\u001b[0m \u001b[0mtextwrap\u001b[0m\u001b[1;33m,\u001b[0m \u001b[0mcPickle\u001b[0m\u001b[1;33m\u001b[0m\u001b[0m\n\u001b[0m\u001b[0;32m     12\u001b[0m \u001b[1;33m\u001b[0m\u001b[0m\n\u001b[0;32m     13\u001b[0m \u001b[1;31m# Our own\u001b[0m\u001b[1;33m\u001b[0m\u001b[1;33m\u001b[0m\u001b[0m\n",
      "\u001b[1;31mImportError\u001b[0m: No module named 'cPickle'"
     ]
    }
   ],
   "source": [
    "%load_ext ipycache"
   ]
  },
  {
   "cell_type": "markdown",
   "metadata": {},
   "source": [
    "## Loading and preparing data"
   ]
  },
  {
   "cell_type": "code",
   "execution_count": 2,
   "metadata": {
    "collapsed": false
   },
   "outputs": [],
   "source": [
    "train = pd.read_csv('data/train.csv')\n",
    "test = pd.read_csv('data/test.csv')\n",
    "sample = pd.read_csv('data/sample.csv')"
   ]
  },
  {
   "cell_type": "code",
   "execution_count": 3,
   "metadata": {
    "collapsed": false
   },
   "outputs": [
    {
     "name": "stdout",
     "output_type": "stream",
     "text": [
      "Train shape:  (551012, 57)\n",
      "Test shape:  (30000, 55)\n",
      "Sample shape  (30000, 8)\n"
     ]
    }
   ],
   "source": [
    "print('Train shape: ', train.shape)\n",
    "print('Test shape: ', test.shape)\n",
    "print('Sample shape ', sample.shape)"
   ]
  },
  {
   "cell_type": "code",
   "execution_count": 4,
   "metadata": {
    "collapsed": false
   },
   "outputs": [
    {
     "name": "stdout",
     "output_type": "stream",
     "text": [
      "<class 'pandas.core.frame.DataFrame'>\n",
      "Int64Index: 551012 entries, 0 to 551011\n",
      "Data columns (total 57 columns):\n",
      "Unnamed: 0                            551012 non-null int64\n",
      "Cover_Type                            551012 non-null object\n",
      "ID                                    551012 non-null int64\n",
      "Elevation                             551012 non-null int64\n",
      "Aspect                                551012 non-null int64\n",
      "Slope                                 551012 non-null int64\n",
      "Horizontal_Distance_To_Hydrology      551012 non-null int64\n",
      "Vertical_Distance_To_Hydrology        551012 non-null int64\n",
      "Horizontal_Distance_To_Roadways       551012 non-null int64\n",
      "Hillshade_9am                         551012 non-null int64\n",
      "Hillshade_Noon                        551012 non-null int64\n",
      "Hillshade_3pm                         551012 non-null int64\n",
      "Horizontal_Distance_To_Fire_Points    551012 non-null int64\n",
      "Wilderness_Area_0                     551012 non-null int64\n",
      "Wilderness_Area_1                     551012 non-null int64\n",
      "Wilderness_Area_2                     551012 non-null int64\n",
      "Wilderness_Area_3                     551012 non-null int64\n",
      "Soil_Type_0                           551012 non-null int64\n",
      "Soil_Type_1                           551012 non-null int64\n",
      "Soil_Type_2                           551012 non-null int64\n",
      "Soil_Type_3                           551012 non-null int64\n",
      "Soil_Type_4                           551012 non-null int64\n",
      "Soil_Type_5                           551012 non-null int64\n",
      "Soil_Type_6                           551012 non-null int64\n",
      "Soil_Type_7                           551012 non-null int64\n",
      "Soil_Type_8                           551012 non-null int64\n",
      "Soil_Type_9                           551012 non-null int64\n",
      "Soil_Type_10                          551012 non-null int64\n",
      "Soil_Type_11                          551012 non-null int64\n",
      "Soil_Type_12                          551012 non-null int64\n",
      "Soil_Type_13                          551012 non-null int64\n",
      "Soil_Type_14                          551012 non-null int64\n",
      "Soil_Type_15                          551012 non-null int64\n",
      "Soil_Type_16                          551012 non-null int64\n",
      "Soil_Type_17                          551012 non-null int64\n",
      "Soil_Type_18                          551012 non-null int64\n",
      "Soil_Type_19                          551012 non-null int64\n",
      "Soil_Type_20                          551012 non-null int64\n",
      "Soil_Type_21                          551012 non-null int64\n",
      "Soil_Type_22                          551012 non-null int64\n",
      "Soil_Type_23                          551012 non-null int64\n",
      "Soil_Type_24                          551012 non-null int64\n",
      "Soil_Type_25                          551012 non-null int64\n",
      "Soil_Type_26                          551012 non-null int64\n",
      "Soil_Type_27                          551012 non-null int64\n",
      "Soil_Type_28                          551012 non-null int64\n",
      "Soil_Type_29                          551012 non-null int64\n",
      "Soil_Type_30                          551012 non-null int64\n",
      "Soil_Type_31                          551012 non-null int64\n",
      "Soil_Type_32                          551012 non-null int64\n",
      "Soil_Type_33                          551012 non-null int64\n",
      "Soil_Type_34                          551012 non-null int64\n",
      "Soil_Type_35                          551012 non-null int64\n",
      "Soil_Type_36                          551012 non-null int64\n",
      "Soil_Type_37                          551012 non-null int64\n",
      "Soil_Type_38                          551012 non-null int64\n",
      "Soil_Type_39                          551012 non-null int64\n",
      "dtypes: int64(56), object(1)\n",
      "memory usage: 243.8+ MB\n"
     ]
    }
   ],
   "source": [
    "train.info()"
   ]
  },
  {
   "cell_type": "markdown",
   "metadata": {
    "collapsed": true
   },
   "source": [
    "#### Data Fields\n",
    "\n",
    "* Elevation - Elevation in meters\n",
    "* Aspect - Aspect in degrees azimuth\n",
    "* Slope - Slope in degrees\n",
    "* Horizontal_Distance_To_Hydrology - Horz Dist to nearest surface water features\n",
    "* Vertical_Distance_To_Hydrology - Vert Dist to nearest surface water features\n",
    "* Horizontal_Distance_To_Roadways - Horz Dist to nearest roadway\n",
    "* Hillshade_9am (0 to 255 index) - Hillshade index at 9am, summer solstice\n",
    "* Hillshade_Noon (0 to 255 index) - Hillshade index at noon, summer solstice\n",
    "* Hillshade_3pm (0 to 255 index) - Hillshade index at 3pm, summer solstice\n",
    "* Horizontal_Distance_To_Fire_Points - Horz Dist to nearest wildfire ignition points\n",
    "* Wilderness_Area (4 binary columns, 0 = absence or 1 = presence) - Wilderness area designation\n",
    "* Soil_Type (40 binary columns, 0 = absence or 1 = presence) - Soil Type designation\n",
    "* Cover_Type (7 types, integers 1 to 7) - Forest Cover Type designation"
   ]
  },
  {
   "cell_type": "code",
   "execution_count": 5,
   "metadata": {
    "collapsed": false
   },
   "outputs": [
    {
     "data": {
      "text/html": [
       "<div>\n",
       "<table border=\"1\" class=\"dataframe\">\n",
       "  <thead>\n",
       "    <tr style=\"text-align: right;\">\n",
       "      <th></th>\n",
       "      <th>Unnamed: 0</th>\n",
       "      <th>Cover_Type</th>\n",
       "      <th>ID</th>\n",
       "      <th>Elevation</th>\n",
       "      <th>Aspect</th>\n",
       "      <th>Slope</th>\n",
       "      <th>Horizontal_Distance_To_Hydrology</th>\n",
       "      <th>Vertical_Distance_To_Hydrology</th>\n",
       "      <th>Horizontal_Distance_To_Roadways</th>\n",
       "      <th>Hillshade_9am</th>\n",
       "      <th>...</th>\n",
       "      <th>Soil_Type_30</th>\n",
       "      <th>Soil_Type_31</th>\n",
       "      <th>Soil_Type_32</th>\n",
       "      <th>Soil_Type_33</th>\n",
       "      <th>Soil_Type_34</th>\n",
       "      <th>Soil_Type_35</th>\n",
       "      <th>Soil_Type_36</th>\n",
       "      <th>Soil_Type_37</th>\n",
       "      <th>Soil_Type_38</th>\n",
       "      <th>Soil_Type_39</th>\n",
       "    </tr>\n",
       "  </thead>\n",
       "  <tbody>\n",
       "    <tr>\n",
       "      <th>0</th>\n",
       "      <td>0</td>\n",
       "      <td>Aspen</td>\n",
       "      <td>30000</td>\n",
       "      <td>2708</td>\n",
       "      <td>83</td>\n",
       "      <td>28</td>\n",
       "      <td>120</td>\n",
       "      <td>58</td>\n",
       "      <td>120</td>\n",
       "      <td>245</td>\n",
       "      <td>...</td>\n",
       "      <td>0</td>\n",
       "      <td>0</td>\n",
       "      <td>0</td>\n",
       "      <td>0</td>\n",
       "      <td>0</td>\n",
       "      <td>0</td>\n",
       "      <td>0</td>\n",
       "      <td>0</td>\n",
       "      <td>0</td>\n",
       "      <td>0</td>\n",
       "    </tr>\n",
       "    <tr>\n",
       "      <th>1</th>\n",
       "      <td>1</td>\n",
       "      <td>Lodgepole Pine</td>\n",
       "      <td>30001</td>\n",
       "      <td>2572</td>\n",
       "      <td>110</td>\n",
       "      <td>15</td>\n",
       "      <td>60</td>\n",
       "      <td>8</td>\n",
       "      <td>934</td>\n",
       "      <td>245</td>\n",
       "      <td>...</td>\n",
       "      <td>0</td>\n",
       "      <td>0</td>\n",
       "      <td>0</td>\n",
       "      <td>0</td>\n",
       "      <td>0</td>\n",
       "      <td>0</td>\n",
       "      <td>0</td>\n",
       "      <td>0</td>\n",
       "      <td>0</td>\n",
       "      <td>0</td>\n",
       "    </tr>\n",
       "    <tr>\n",
       "      <th>2</th>\n",
       "      <td>2</td>\n",
       "      <td>Lodgepole Pine</td>\n",
       "      <td>30002</td>\n",
       "      <td>3200</td>\n",
       "      <td>64</td>\n",
       "      <td>16</td>\n",
       "      <td>124</td>\n",
       "      <td>24</td>\n",
       "      <td>1442</td>\n",
       "      <td>233</td>\n",
       "      <td>...</td>\n",
       "      <td>0</td>\n",
       "      <td>0</td>\n",
       "      <td>0</td>\n",
       "      <td>0</td>\n",
       "      <td>0</td>\n",
       "      <td>0</td>\n",
       "      <td>0</td>\n",
       "      <td>0</td>\n",
       "      <td>0</td>\n",
       "      <td>0</td>\n",
       "    </tr>\n",
       "    <tr>\n",
       "      <th>3</th>\n",
       "      <td>3</td>\n",
       "      <td>Lodgepole Pine</td>\n",
       "      <td>30003</td>\n",
       "      <td>2625</td>\n",
       "      <td>46</td>\n",
       "      <td>19</td>\n",
       "      <td>371</td>\n",
       "      <td>7</td>\n",
       "      <td>1020</td>\n",
       "      <td>222</td>\n",
       "      <td>...</td>\n",
       "      <td>0</td>\n",
       "      <td>0</td>\n",
       "      <td>0</td>\n",
       "      <td>0</td>\n",
       "      <td>0</td>\n",
       "      <td>0</td>\n",
       "      <td>0</td>\n",
       "      <td>0</td>\n",
       "      <td>0</td>\n",
       "      <td>0</td>\n",
       "    </tr>\n",
       "    <tr>\n",
       "      <th>4</th>\n",
       "      <td>4</td>\n",
       "      <td>Ponderosa Pine</td>\n",
       "      <td>30004</td>\n",
       "      <td>2340</td>\n",
       "      <td>94</td>\n",
       "      <td>16</td>\n",
       "      <td>30</td>\n",
       "      <td>8</td>\n",
       "      <td>421</td>\n",
       "      <td>243</td>\n",
       "      <td>...</td>\n",
       "      <td>0</td>\n",
       "      <td>0</td>\n",
       "      <td>0</td>\n",
       "      <td>0</td>\n",
       "      <td>0</td>\n",
       "      <td>0</td>\n",
       "      <td>0</td>\n",
       "      <td>0</td>\n",
       "      <td>0</td>\n",
       "      <td>0</td>\n",
       "    </tr>\n",
       "  </tbody>\n",
       "</table>\n",
       "<p>5 rows × 57 columns</p>\n",
       "</div>"
      ],
      "text/plain": [
       "   Unnamed: 0      Cover_Type     ID  Elevation  Aspect  Slope  \\\n",
       "0           0           Aspen  30000       2708      83     28   \n",
       "1           1  Lodgepole Pine  30001       2572     110     15   \n",
       "2           2  Lodgepole Pine  30002       3200      64     16   \n",
       "3           3  Lodgepole Pine  30003       2625      46     19   \n",
       "4           4  Ponderosa Pine  30004       2340      94     16   \n",
       "\n",
       "   Horizontal_Distance_To_Hydrology  Vertical_Distance_To_Hydrology  \\\n",
       "0                               120                              58   \n",
       "1                                60                               8   \n",
       "2                               124                              24   \n",
       "3                               371                               7   \n",
       "4                                30                               8   \n",
       "\n",
       "   Horizontal_Distance_To_Roadways  Hillshade_9am      ...       Soil_Type_30  \\\n",
       "0                              120            245      ...                  0   \n",
       "1                              934            245      ...                  0   \n",
       "2                             1442            233      ...                  0   \n",
       "3                             1020            222      ...                  0   \n",
       "4                              421            243      ...                  0   \n",
       "\n",
       "   Soil_Type_31  Soil_Type_32  Soil_Type_33  Soil_Type_34  Soil_Type_35  \\\n",
       "0             0             0             0             0             0   \n",
       "1             0             0             0             0             0   \n",
       "2             0             0             0             0             0   \n",
       "3             0             0             0             0             0   \n",
       "4             0             0             0             0             0   \n",
       "\n",
       "   Soil_Type_36  Soil_Type_37  Soil_Type_38  Soil_Type_39  \n",
       "0             0             0             0             0  \n",
       "1             0             0             0             0  \n",
       "2             0             0             0             0  \n",
       "3             0             0             0             0  \n",
       "4             0             0             0             0  \n",
       "\n",
       "[5 rows x 57 columns]"
      ]
     },
     "execution_count": 5,
     "metadata": {},
     "output_type": "execute_result"
    }
   ],
   "source": [
    "train.head()"
   ]
  },
  {
   "cell_type": "code",
   "execution_count": 6,
   "metadata": {
    "collapsed": false
   },
   "outputs": [
    {
     "data": {
      "text/html": [
       "<div>\n",
       "<table border=\"1\" class=\"dataframe\">\n",
       "  <thead>\n",
       "    <tr style=\"text-align: right;\">\n",
       "      <th></th>\n",
       "      <th>ID</th>\n",
       "      <th>Elevation</th>\n",
       "      <th>Aspect</th>\n",
       "      <th>Slope</th>\n",
       "      <th>Horizontal_Distance_To_Hydrology</th>\n",
       "      <th>Vertical_Distance_To_Hydrology</th>\n",
       "      <th>Horizontal_Distance_To_Roadways</th>\n",
       "      <th>Hillshade_9am</th>\n",
       "      <th>Hillshade_Noon</th>\n",
       "      <th>Hillshade_3pm</th>\n",
       "      <th>...</th>\n",
       "      <th>Soil_Type_30</th>\n",
       "      <th>Soil_Type_31</th>\n",
       "      <th>Soil_Type_32</th>\n",
       "      <th>Soil_Type_33</th>\n",
       "      <th>Soil_Type_34</th>\n",
       "      <th>Soil_Type_35</th>\n",
       "      <th>Soil_Type_36</th>\n",
       "      <th>Soil_Type_37</th>\n",
       "      <th>Soil_Type_38</th>\n",
       "      <th>Soil_Type_39</th>\n",
       "    </tr>\n",
       "  </thead>\n",
       "  <tbody>\n",
       "    <tr>\n",
       "      <th>0</th>\n",
       "      <td>0</td>\n",
       "      <td>3237</td>\n",
       "      <td>39</td>\n",
       "      <td>6</td>\n",
       "      <td>190</td>\n",
       "      <td>4</td>\n",
       "      <td>2992</td>\n",
       "      <td>221</td>\n",
       "      <td>226</td>\n",
       "      <td>141</td>\n",
       "      <td>...</td>\n",
       "      <td>1</td>\n",
       "      <td>0</td>\n",
       "      <td>0</td>\n",
       "      <td>0</td>\n",
       "      <td>0</td>\n",
       "      <td>0</td>\n",
       "      <td>0</td>\n",
       "      <td>0</td>\n",
       "      <td>0</td>\n",
       "      <td>0</td>\n",
       "    </tr>\n",
       "    <tr>\n",
       "      <th>1</th>\n",
       "      <td>1</td>\n",
       "      <td>2206</td>\n",
       "      <td>300</td>\n",
       "      <td>36</td>\n",
       "      <td>42</td>\n",
       "      <td>16</td>\n",
       "      <td>1387</td>\n",
       "      <td>99</td>\n",
       "      <td>200</td>\n",
       "      <td>228</td>\n",
       "      <td>...</td>\n",
       "      <td>0</td>\n",
       "      <td>0</td>\n",
       "      <td>0</td>\n",
       "      <td>0</td>\n",
       "      <td>0</td>\n",
       "      <td>0</td>\n",
       "      <td>0</td>\n",
       "      <td>0</td>\n",
       "      <td>0</td>\n",
       "      <td>0</td>\n",
       "    </tr>\n",
       "    <tr>\n",
       "      <th>2</th>\n",
       "      <td>2</td>\n",
       "      <td>2982</td>\n",
       "      <td>210</td>\n",
       "      <td>8</td>\n",
       "      <td>60</td>\n",
       "      <td>-5</td>\n",
       "      <td>5343</td>\n",
       "      <td>214</td>\n",
       "      <td>247</td>\n",
       "      <td>169</td>\n",
       "      <td>...</td>\n",
       "      <td>0</td>\n",
       "      <td>0</td>\n",
       "      <td>0</td>\n",
       "      <td>0</td>\n",
       "      <td>0</td>\n",
       "      <td>0</td>\n",
       "      <td>0</td>\n",
       "      <td>0</td>\n",
       "      <td>0</td>\n",
       "      <td>0</td>\n",
       "    </tr>\n",
       "    <tr>\n",
       "      <th>3</th>\n",
       "      <td>3</td>\n",
       "      <td>3067</td>\n",
       "      <td>66</td>\n",
       "      <td>9</td>\n",
       "      <td>283</td>\n",
       "      <td>17</td>\n",
       "      <td>3777</td>\n",
       "      <td>229</td>\n",
       "      <td>221</td>\n",
       "      <td>124</td>\n",
       "      <td>...</td>\n",
       "      <td>0</td>\n",
       "      <td>0</td>\n",
       "      <td>0</td>\n",
       "      <td>0</td>\n",
       "      <td>0</td>\n",
       "      <td>0</td>\n",
       "      <td>0</td>\n",
       "      <td>0</td>\n",
       "      <td>0</td>\n",
       "      <td>0</td>\n",
       "    </tr>\n",
       "    <tr>\n",
       "      <th>4</th>\n",
       "      <td>4</td>\n",
       "      <td>2452</td>\n",
       "      <td>107</td>\n",
       "      <td>13</td>\n",
       "      <td>67</td>\n",
       "      <td>8</td>\n",
       "      <td>446</td>\n",
       "      <td>242</td>\n",
       "      <td>224</td>\n",
       "      <td>109</td>\n",
       "      <td>...</td>\n",
       "      <td>0</td>\n",
       "      <td>0</td>\n",
       "      <td>0</td>\n",
       "      <td>0</td>\n",
       "      <td>0</td>\n",
       "      <td>0</td>\n",
       "      <td>0</td>\n",
       "      <td>0</td>\n",
       "      <td>0</td>\n",
       "      <td>0</td>\n",
       "    </tr>\n",
       "  </tbody>\n",
       "</table>\n",
       "<p>5 rows × 55 columns</p>\n",
       "</div>"
      ],
      "text/plain": [
       "   ID  Elevation  Aspect  Slope  Horizontal_Distance_To_Hydrology  \\\n",
       "0   0       3237      39      6                               190   \n",
       "1   1       2206     300     36                                42   \n",
       "2   2       2982     210      8                                60   \n",
       "3   3       3067      66      9                               283   \n",
       "4   4       2452     107     13                                67   \n",
       "\n",
       "   Vertical_Distance_To_Hydrology  Horizontal_Distance_To_Roadways  \\\n",
       "0                               4                             2992   \n",
       "1                              16                             1387   \n",
       "2                              -5                             5343   \n",
       "3                              17                             3777   \n",
       "4                               8                              446   \n",
       "\n",
       "   Hillshade_9am  Hillshade_Noon  Hillshade_3pm      ...       Soil_Type_30  \\\n",
       "0            221             226            141      ...                  1   \n",
       "1             99             200            228      ...                  0   \n",
       "2            214             247            169      ...                  0   \n",
       "3            229             221            124      ...                  0   \n",
       "4            242             224            109      ...                  0   \n",
       "\n",
       "   Soil_Type_31  Soil_Type_32  Soil_Type_33  Soil_Type_34  Soil_Type_35  \\\n",
       "0             0             0             0             0             0   \n",
       "1             0             0             0             0             0   \n",
       "2             0             0             0             0             0   \n",
       "3             0             0             0             0             0   \n",
       "4             0             0             0             0             0   \n",
       "\n",
       "   Soil_Type_36  Soil_Type_37  Soil_Type_38  Soil_Type_39  \n",
       "0             0             0             0             0  \n",
       "1             0             0             0             0  \n",
       "2             0             0             0             0  \n",
       "3             0             0             0             0  \n",
       "4             0             0             0             0  \n",
       "\n",
       "[5 rows x 55 columns]"
      ]
     },
     "execution_count": 6,
     "metadata": {},
     "output_type": "execute_result"
    }
   ],
   "source": [
    "test.head()"
   ]
  },
  {
   "cell_type": "code",
   "execution_count": 7,
   "metadata": {
    "collapsed": false
   },
   "outputs": [
    {
     "data": {
      "text/html": [
       "<div>\n",
       "<table border=\"1\" class=\"dataframe\">\n",
       "  <thead>\n",
       "    <tr style=\"text-align: right;\">\n",
       "      <th></th>\n",
       "      <th>ID</th>\n",
       "      <th>Aspen</th>\n",
       "      <th>Cottonwood/Willow</th>\n",
       "      <th>Douglas fir</th>\n",
       "      <th>Krummholz</th>\n",
       "      <th>Lodgepole Pine</th>\n",
       "      <th>Ponderosa Pine</th>\n",
       "      <th>Spruce fir</th>\n",
       "    </tr>\n",
       "  </thead>\n",
       "  <tbody>\n",
       "    <tr>\n",
       "      <th>0</th>\n",
       "      <td>0</td>\n",
       "      <td>0.016384</td>\n",
       "      <td>0.004711</td>\n",
       "      <td>0.029947</td>\n",
       "      <td>0.035235</td>\n",
       "      <td>0.487387</td>\n",
       "      <td>0.061516</td>\n",
       "      <td>0.36482</td>\n",
       "    </tr>\n",
       "    <tr>\n",
       "      <th>1</th>\n",
       "      <td>1</td>\n",
       "      <td>0.016384</td>\n",
       "      <td>0.004711</td>\n",
       "      <td>0.029947</td>\n",
       "      <td>0.035235</td>\n",
       "      <td>0.487387</td>\n",
       "      <td>0.061516</td>\n",
       "      <td>0.36482</td>\n",
       "    </tr>\n",
       "    <tr>\n",
       "      <th>2</th>\n",
       "      <td>2</td>\n",
       "      <td>0.016384</td>\n",
       "      <td>0.004711</td>\n",
       "      <td>0.029947</td>\n",
       "      <td>0.035235</td>\n",
       "      <td>0.487387</td>\n",
       "      <td>0.061516</td>\n",
       "      <td>0.36482</td>\n",
       "    </tr>\n",
       "    <tr>\n",
       "      <th>3</th>\n",
       "      <td>3</td>\n",
       "      <td>0.016384</td>\n",
       "      <td>0.004711</td>\n",
       "      <td>0.029947</td>\n",
       "      <td>0.035235</td>\n",
       "      <td>0.487387</td>\n",
       "      <td>0.061516</td>\n",
       "      <td>0.36482</td>\n",
       "    </tr>\n",
       "    <tr>\n",
       "      <th>4</th>\n",
       "      <td>4</td>\n",
       "      <td>0.016384</td>\n",
       "      <td>0.004711</td>\n",
       "      <td>0.029947</td>\n",
       "      <td>0.035235</td>\n",
       "      <td>0.487387</td>\n",
       "      <td>0.061516</td>\n",
       "      <td>0.36482</td>\n",
       "    </tr>\n",
       "  </tbody>\n",
       "</table>\n",
       "</div>"
      ],
      "text/plain": [
       "   ID     Aspen  Cottonwood/Willow  Douglas fir  Krummholz  Lodgepole Pine  \\\n",
       "0   0  0.016384           0.004711     0.029947   0.035235        0.487387   \n",
       "1   1  0.016384           0.004711     0.029947   0.035235        0.487387   \n",
       "2   2  0.016384           0.004711     0.029947   0.035235        0.487387   \n",
       "3   3  0.016384           0.004711     0.029947   0.035235        0.487387   \n",
       "4   4  0.016384           0.004711     0.029947   0.035235        0.487387   \n",
       "\n",
       "   Ponderosa Pine  Spruce fir  \n",
       "0        0.061516     0.36482  \n",
       "1        0.061516     0.36482  \n",
       "2        0.061516     0.36482  \n",
       "3        0.061516     0.36482  \n",
       "4        0.061516     0.36482  "
      ]
     },
     "execution_count": 7,
     "metadata": {},
     "output_type": "execute_result"
    }
   ],
   "source": [
    "sample.head()"
   ]
  },
  {
   "cell_type": "code",
   "execution_count": 8,
   "metadata": {
    "collapsed": false
   },
   "outputs": [
    {
     "data": {
      "text/plain": [
       "Lodgepole Pine       268556\n",
       "Spruce fir           201020\n",
       "Ponderosa Pine        33896\n",
       "Krummholz             19415\n",
       "Douglas fir           16501\n",
       "Aspen                  9028\n",
       "Cottonwood/Willow      2596\n",
       "Name: Cover_Type, dtype: int64"
      ]
     },
     "execution_count": 8,
     "metadata": {},
     "output_type": "execute_result"
    }
   ],
   "source": [
    "coverType = train.Cover_Type\n",
    "coverType.value_counts()"
   ]
  },
  {
   "cell_type": "code",
   "execution_count": 9,
   "metadata": {
    "collapsed": true
   },
   "outputs": [],
   "source": [
    "testId = test.ID\n",
    "train.drop(['Unnamed: 0', 'Cover_Type', 'ID'], axis=1, inplace=True)\n",
    "test.drop(['ID'], axis=1, inplace=True)\n",
    "train['Test'] = False\n",
    "test['Test'] = True\n",
    "data = pd.concat([train, test], ignore_index=True)"
   ]
  },
  {
   "cell_type": "markdown",
   "metadata": {},
   "source": [
    "## Data wrangling"
   ]
  },
  {
   "cell_type": "code",
   "execution_count": 10,
   "metadata": {
    "collapsed": false
   },
   "outputs": [
    {
     "name": "stdout",
     "output_type": "stream",
     "text": [
      "<class 'pandas.core.frame.DataFrame'>\n",
      "Int64Index: 581012 entries, 0 to 581011\n",
      "Data columns (total 55 columns):\n",
      "Elevation                             581012 non-null int64\n",
      "Aspect                                581012 non-null int64\n",
      "Slope                                 581012 non-null int64\n",
      "Horizontal_Distance_To_Hydrology      581012 non-null int64\n",
      "Vertical_Distance_To_Hydrology        581012 non-null int64\n",
      "Horizontal_Distance_To_Roadways       581012 non-null int64\n",
      "Hillshade_9am                         581012 non-null int64\n",
      "Hillshade_Noon                        581012 non-null int64\n",
      "Hillshade_3pm                         581012 non-null int64\n",
      "Horizontal_Distance_To_Fire_Points    581012 non-null int64\n",
      "Wilderness_Area_0                     581012 non-null int64\n",
      "Wilderness_Area_1                     581012 non-null int64\n",
      "Wilderness_Area_2                     581012 non-null int64\n",
      "Wilderness_Area_3                     581012 non-null int64\n",
      "Soil_Type_0                           581012 non-null int64\n",
      "Soil_Type_1                           581012 non-null int64\n",
      "Soil_Type_2                           581012 non-null int64\n",
      "Soil_Type_3                           581012 non-null int64\n",
      "Soil_Type_4                           581012 non-null int64\n",
      "Soil_Type_5                           581012 non-null int64\n",
      "Soil_Type_6                           581012 non-null int64\n",
      "Soil_Type_7                           581012 non-null int64\n",
      "Soil_Type_8                           581012 non-null int64\n",
      "Soil_Type_9                           581012 non-null int64\n",
      "Soil_Type_10                          581012 non-null int64\n",
      "Soil_Type_11                          581012 non-null int64\n",
      "Soil_Type_12                          581012 non-null int64\n",
      "Soil_Type_13                          581012 non-null int64\n",
      "Soil_Type_14                          581012 non-null int64\n",
      "Soil_Type_15                          581012 non-null int64\n",
      "Soil_Type_16                          581012 non-null int64\n",
      "Soil_Type_17                          581012 non-null int64\n",
      "Soil_Type_18                          581012 non-null int64\n",
      "Soil_Type_19                          581012 non-null int64\n",
      "Soil_Type_20                          581012 non-null int64\n",
      "Soil_Type_21                          581012 non-null int64\n",
      "Soil_Type_22                          581012 non-null int64\n",
      "Soil_Type_23                          581012 non-null int64\n",
      "Soil_Type_24                          581012 non-null int64\n",
      "Soil_Type_25                          581012 non-null int64\n",
      "Soil_Type_26                          581012 non-null int64\n",
      "Soil_Type_27                          581012 non-null int64\n",
      "Soil_Type_28                          581012 non-null int64\n",
      "Soil_Type_29                          581012 non-null int64\n",
      "Soil_Type_30                          581012 non-null int64\n",
      "Soil_Type_31                          581012 non-null int64\n",
      "Soil_Type_32                          581012 non-null int64\n",
      "Soil_Type_33                          581012 non-null int64\n",
      "Soil_Type_34                          581012 non-null int64\n",
      "Soil_Type_35                          581012 non-null int64\n",
      "Soil_Type_36                          581012 non-null int64\n",
      "Soil_Type_37                          581012 non-null int64\n",
      "Soil_Type_38                          581012 non-null int64\n",
      "Soil_Type_39                          581012 non-null int64\n",
      "Test                                  581012 non-null bool\n",
      "dtypes: bool(1), int64(54)\n",
      "memory usage: 244.4 MB\n"
     ]
    }
   ],
   "source": [
    "data.info()"
   ]
  },
  {
   "cell_type": "code",
   "execution_count": 11,
   "metadata": {
    "collapsed": false
   },
   "outputs": [
    {
     "data": {
      "text/html": [
       "<div>\n",
       "<table border=\"1\" class=\"dataframe\">\n",
       "  <thead>\n",
       "    <tr style=\"text-align: right;\">\n",
       "      <th></th>\n",
       "      <th>Elevation</th>\n",
       "      <th>Aspect</th>\n",
       "      <th>Slope</th>\n",
       "      <th>Horizontal_Distance_To_Hydrology</th>\n",
       "      <th>Vertical_Distance_To_Hydrology</th>\n",
       "      <th>Horizontal_Distance_To_Roadways</th>\n",
       "      <th>Hillshade_9am</th>\n",
       "      <th>Hillshade_Noon</th>\n",
       "      <th>Hillshade_3pm</th>\n",
       "      <th>Horizontal_Distance_To_Fire_Points</th>\n",
       "      <th>...</th>\n",
       "      <th>Soil_Type_31</th>\n",
       "      <th>Soil_Type_32</th>\n",
       "      <th>Soil_Type_33</th>\n",
       "      <th>Soil_Type_34</th>\n",
       "      <th>Soil_Type_35</th>\n",
       "      <th>Soil_Type_36</th>\n",
       "      <th>Soil_Type_37</th>\n",
       "      <th>Soil_Type_38</th>\n",
       "      <th>Soil_Type_39</th>\n",
       "      <th>Test</th>\n",
       "    </tr>\n",
       "  </thead>\n",
       "  <tbody>\n",
       "    <tr>\n",
       "      <th>count</th>\n",
       "      <td>581012.000000</td>\n",
       "      <td>581012.000000</td>\n",
       "      <td>581012.000000</td>\n",
       "      <td>581012.000000</td>\n",
       "      <td>581012.000000</td>\n",
       "      <td>581012.000000</td>\n",
       "      <td>581012.000000</td>\n",
       "      <td>581012.000000</td>\n",
       "      <td>581012.000000</td>\n",
       "      <td>581012.000000</td>\n",
       "      <td>...</td>\n",
       "      <td>581012.000000</td>\n",
       "      <td>581012.000000</td>\n",
       "      <td>581012.000000</td>\n",
       "      <td>581012.000000</td>\n",
       "      <td>581012.000000</td>\n",
       "      <td>581012.000000</td>\n",
       "      <td>581012.000000</td>\n",
       "      <td>581012.000000</td>\n",
       "      <td>581012.000000</td>\n",
       "      <td>581012</td>\n",
       "    </tr>\n",
       "    <tr>\n",
       "      <th>mean</th>\n",
       "      <td>2959.365301</td>\n",
       "      <td>155.656807</td>\n",
       "      <td>14.103704</td>\n",
       "      <td>269.428217</td>\n",
       "      <td>46.418855</td>\n",
       "      <td>2350.146611</td>\n",
       "      <td>212.146049</td>\n",
       "      <td>223.318716</td>\n",
       "      <td>142.528263</td>\n",
       "      <td>1980.291226</td>\n",
       "      <td>...</td>\n",
       "      <td>0.090392</td>\n",
       "      <td>0.077716</td>\n",
       "      <td>0.002773</td>\n",
       "      <td>0.003255</td>\n",
       "      <td>0.000205</td>\n",
       "      <td>0.000513</td>\n",
       "      <td>0.026803</td>\n",
       "      <td>0.023762</td>\n",
       "      <td>0.015060</td>\n",
       "      <td>0.051634</td>\n",
       "    </tr>\n",
       "    <tr>\n",
       "      <th>std</th>\n",
       "      <td>279.984734</td>\n",
       "      <td>111.913721</td>\n",
       "      <td>7.488242</td>\n",
       "      <td>212.549356</td>\n",
       "      <td>58.295232</td>\n",
       "      <td>1559.254870</td>\n",
       "      <td>26.769889</td>\n",
       "      <td>19.768697</td>\n",
       "      <td>38.274529</td>\n",
       "      <td>1324.195210</td>\n",
       "      <td>...</td>\n",
       "      <td>0.286743</td>\n",
       "      <td>0.267725</td>\n",
       "      <td>0.052584</td>\n",
       "      <td>0.056957</td>\n",
       "      <td>0.014310</td>\n",
       "      <td>0.022641</td>\n",
       "      <td>0.161508</td>\n",
       "      <td>0.152307</td>\n",
       "      <td>0.121791</td>\n",
       "      <td>0.221287</td>\n",
       "    </tr>\n",
       "    <tr>\n",
       "      <th>min</th>\n",
       "      <td>1859.000000</td>\n",
       "      <td>0.000000</td>\n",
       "      <td>0.000000</td>\n",
       "      <td>0.000000</td>\n",
       "      <td>-173.000000</td>\n",
       "      <td>0.000000</td>\n",
       "      <td>0.000000</td>\n",
       "      <td>0.000000</td>\n",
       "      <td>0.000000</td>\n",
       "      <td>0.000000</td>\n",
       "      <td>...</td>\n",
       "      <td>0.000000</td>\n",
       "      <td>0.000000</td>\n",
       "      <td>0.000000</td>\n",
       "      <td>0.000000</td>\n",
       "      <td>0.000000</td>\n",
       "      <td>0.000000</td>\n",
       "      <td>0.000000</td>\n",
       "      <td>0.000000</td>\n",
       "      <td>0.000000</td>\n",
       "      <td>False</td>\n",
       "    </tr>\n",
       "    <tr>\n",
       "      <th>25%</th>\n",
       "      <td>2809.000000</td>\n",
       "      <td>58.000000</td>\n",
       "      <td>9.000000</td>\n",
       "      <td>108.000000</td>\n",
       "      <td>7.000000</td>\n",
       "      <td>1106.000000</td>\n",
       "      <td>198.000000</td>\n",
       "      <td>213.000000</td>\n",
       "      <td>119.000000</td>\n",
       "      <td>1024.000000</td>\n",
       "      <td>...</td>\n",
       "      <td>0.000000</td>\n",
       "      <td>0.000000</td>\n",
       "      <td>0.000000</td>\n",
       "      <td>0.000000</td>\n",
       "      <td>0.000000</td>\n",
       "      <td>0.000000</td>\n",
       "      <td>0.000000</td>\n",
       "      <td>0.000000</td>\n",
       "      <td>0.000000</td>\n",
       "      <td>0</td>\n",
       "    </tr>\n",
       "    <tr>\n",
       "      <th>50%</th>\n",
       "      <td>2996.000000</td>\n",
       "      <td>127.000000</td>\n",
       "      <td>13.000000</td>\n",
       "      <td>218.000000</td>\n",
       "      <td>30.000000</td>\n",
       "      <td>1997.000000</td>\n",
       "      <td>218.000000</td>\n",
       "      <td>226.000000</td>\n",
       "      <td>143.000000</td>\n",
       "      <td>1710.000000</td>\n",
       "      <td>...</td>\n",
       "      <td>0.000000</td>\n",
       "      <td>0.000000</td>\n",
       "      <td>0.000000</td>\n",
       "      <td>0.000000</td>\n",
       "      <td>0.000000</td>\n",
       "      <td>0.000000</td>\n",
       "      <td>0.000000</td>\n",
       "      <td>0.000000</td>\n",
       "      <td>0.000000</td>\n",
       "      <td>0</td>\n",
       "    </tr>\n",
       "    <tr>\n",
       "      <th>75%</th>\n",
       "      <td>3163.000000</td>\n",
       "      <td>260.000000</td>\n",
       "      <td>18.000000</td>\n",
       "      <td>384.000000</td>\n",
       "      <td>69.000000</td>\n",
       "      <td>3328.000000</td>\n",
       "      <td>231.000000</td>\n",
       "      <td>237.000000</td>\n",
       "      <td>168.000000</td>\n",
       "      <td>2550.000000</td>\n",
       "      <td>...</td>\n",
       "      <td>0.000000</td>\n",
       "      <td>0.000000</td>\n",
       "      <td>0.000000</td>\n",
       "      <td>0.000000</td>\n",
       "      <td>0.000000</td>\n",
       "      <td>0.000000</td>\n",
       "      <td>0.000000</td>\n",
       "      <td>0.000000</td>\n",
       "      <td>0.000000</td>\n",
       "      <td>0</td>\n",
       "    </tr>\n",
       "    <tr>\n",
       "      <th>max</th>\n",
       "      <td>3858.000000</td>\n",
       "      <td>360.000000</td>\n",
       "      <td>66.000000</td>\n",
       "      <td>1397.000000</td>\n",
       "      <td>601.000000</td>\n",
       "      <td>7117.000000</td>\n",
       "      <td>254.000000</td>\n",
       "      <td>254.000000</td>\n",
       "      <td>254.000000</td>\n",
       "      <td>7173.000000</td>\n",
       "      <td>...</td>\n",
       "      <td>1.000000</td>\n",
       "      <td>1.000000</td>\n",
       "      <td>1.000000</td>\n",
       "      <td>1.000000</td>\n",
       "      <td>1.000000</td>\n",
       "      <td>1.000000</td>\n",
       "      <td>1.000000</td>\n",
       "      <td>1.000000</td>\n",
       "      <td>1.000000</td>\n",
       "      <td>True</td>\n",
       "    </tr>\n",
       "  </tbody>\n",
       "</table>\n",
       "<p>8 rows × 55 columns</p>\n",
       "</div>"
      ],
      "text/plain": [
       "           Elevation         Aspect          Slope  \\\n",
       "count  581012.000000  581012.000000  581012.000000   \n",
       "mean     2959.365301     155.656807      14.103704   \n",
       "std       279.984734     111.913721       7.488242   \n",
       "min      1859.000000       0.000000       0.000000   \n",
       "25%      2809.000000      58.000000       9.000000   \n",
       "50%      2996.000000     127.000000      13.000000   \n",
       "75%      3163.000000     260.000000      18.000000   \n",
       "max      3858.000000     360.000000      66.000000   \n",
       "\n",
       "       Horizontal_Distance_To_Hydrology  Vertical_Distance_To_Hydrology  \\\n",
       "count                     581012.000000                   581012.000000   \n",
       "mean                         269.428217                       46.418855   \n",
       "std                          212.549356                       58.295232   \n",
       "min                            0.000000                     -173.000000   \n",
       "25%                          108.000000                        7.000000   \n",
       "50%                          218.000000                       30.000000   \n",
       "75%                          384.000000                       69.000000   \n",
       "max                         1397.000000                      601.000000   \n",
       "\n",
       "       Horizontal_Distance_To_Roadways  Hillshade_9am  Hillshade_Noon  \\\n",
       "count                    581012.000000  581012.000000   581012.000000   \n",
       "mean                       2350.146611     212.146049      223.318716   \n",
       "std                        1559.254870      26.769889       19.768697   \n",
       "min                           0.000000       0.000000        0.000000   \n",
       "25%                        1106.000000     198.000000      213.000000   \n",
       "50%                        1997.000000     218.000000      226.000000   \n",
       "75%                        3328.000000     231.000000      237.000000   \n",
       "max                        7117.000000     254.000000      254.000000   \n",
       "\n",
       "       Hillshade_3pm  Horizontal_Distance_To_Fire_Points    ...     \\\n",
       "count  581012.000000                       581012.000000    ...      \n",
       "mean      142.528263                         1980.291226    ...      \n",
       "std        38.274529                         1324.195210    ...      \n",
       "min         0.000000                            0.000000    ...      \n",
       "25%       119.000000                         1024.000000    ...      \n",
       "50%       143.000000                         1710.000000    ...      \n",
       "75%       168.000000                         2550.000000    ...      \n",
       "max       254.000000                         7173.000000    ...      \n",
       "\n",
       "        Soil_Type_31   Soil_Type_32   Soil_Type_33   Soil_Type_34  \\\n",
       "count  581012.000000  581012.000000  581012.000000  581012.000000   \n",
       "mean        0.090392       0.077716       0.002773       0.003255   \n",
       "std         0.286743       0.267725       0.052584       0.056957   \n",
       "min         0.000000       0.000000       0.000000       0.000000   \n",
       "25%         0.000000       0.000000       0.000000       0.000000   \n",
       "50%         0.000000       0.000000       0.000000       0.000000   \n",
       "75%         0.000000       0.000000       0.000000       0.000000   \n",
       "max         1.000000       1.000000       1.000000       1.000000   \n",
       "\n",
       "        Soil_Type_35   Soil_Type_36   Soil_Type_37   Soil_Type_38  \\\n",
       "count  581012.000000  581012.000000  581012.000000  581012.000000   \n",
       "mean        0.000205       0.000513       0.026803       0.023762   \n",
       "std         0.014310       0.022641       0.161508       0.152307   \n",
       "min         0.000000       0.000000       0.000000       0.000000   \n",
       "25%         0.000000       0.000000       0.000000       0.000000   \n",
       "50%         0.000000       0.000000       0.000000       0.000000   \n",
       "75%         0.000000       0.000000       0.000000       0.000000   \n",
       "max         1.000000       1.000000       1.000000       1.000000   \n",
       "\n",
       "        Soil_Type_39      Test  \n",
       "count  581012.000000    581012  \n",
       "mean        0.015060  0.051634  \n",
       "std         0.121791  0.221287  \n",
       "min         0.000000     False  \n",
       "25%         0.000000         0  \n",
       "50%         0.000000         0  \n",
       "75%         0.000000         0  \n",
       "max         1.000000      True  \n",
       "\n",
       "[8 rows x 55 columns]"
      ]
     },
     "execution_count": 11,
     "metadata": {},
     "output_type": "execute_result"
    }
   ],
   "source": [
    "data.describe()"
   ]
  },
  {
   "cell_type": "code",
   "execution_count": 17,
   "metadata": {
    "collapsed": false
   },
   "outputs": [
    {
     "data": {
      "text/plain": [
       "Elevation                             0\n",
       "Aspect                                0\n",
       "Slope                                 0\n",
       "Horizontal_Distance_To_Hydrology      0\n",
       "Vertical_Distance_To_Hydrology        0\n",
       "Horizontal_Distance_To_Roadways       0\n",
       "Hillshade_9am                         0\n",
       "Hillshade_Noon                        0\n",
       "Hillshade_3pm                         0\n",
       "Horizontal_Distance_To_Fire_Points    0\n",
       "Wilderness_Area_0                     0\n",
       "Wilderness_Area_1                     0\n",
       "Wilderness_Area_2                     0\n",
       "Wilderness_Area_3                     0\n",
       "Soil_Type_0                           0\n",
       "Soil_Type_1                           0\n",
       "Soil_Type_2                           0\n",
       "Soil_Type_3                           0\n",
       "Soil_Type_4                           0\n",
       "Soil_Type_5                           0\n",
       "Soil_Type_6                           0\n",
       "Soil_Type_7                           0\n",
       "Soil_Type_8                           0\n",
       "Soil_Type_9                           0\n",
       "Soil_Type_10                          0\n",
       "Soil_Type_11                          0\n",
       "Soil_Type_12                          0\n",
       "Soil_Type_13                          0\n",
       "Soil_Type_14                          0\n",
       "Soil_Type_15                          0\n",
       "Soil_Type_16                          0\n",
       "Soil_Type_17                          0\n",
       "Soil_Type_18                          0\n",
       "Soil_Type_19                          0\n",
       "Soil_Type_20                          0\n",
       "Soil_Type_21                          0\n",
       "Soil_Type_22                          0\n",
       "Soil_Type_23                          0\n",
       "Soil_Type_24                          0\n",
       "Soil_Type_25                          0\n",
       "Soil_Type_26                          0\n",
       "Soil_Type_27                          0\n",
       "Soil_Type_28                          0\n",
       "Soil_Type_29                          0\n",
       "Soil_Type_30                          0\n",
       "Soil_Type_31                          0\n",
       "Soil_Type_32                          0\n",
       "Soil_Type_33                          0\n",
       "Soil_Type_34                          0\n",
       "Soil_Type_35                          0\n",
       "Soil_Type_36                          0\n",
       "Soil_Type_37                          0\n",
       "Soil_Type_38                          0\n",
       "Soil_Type_39                          0\n",
       "Test                                  0\n",
       "dtype: int64"
      ]
     },
     "execution_count": 17,
     "metadata": {},
     "output_type": "execute_result"
    }
   ],
   "source": [
    "data.isnull().sum()"
   ]
  },
  {
   "cell_type": "markdown",
   "metadata": {},
   "source": [
    "### Memory optimisation"
   ]
  },
  {
   "cell_type": "code",
   "execution_count": 18,
   "metadata": {
    "collapsed": true
   },
   "outputs": [],
   "source": [
    "for col in data.columns:\n",
    "    if set(data[col]) == set((0,1)):\n",
    "        data[col] = data[col].astype(bool)"
   ]
  },
  {
   "cell_type": "code",
   "execution_count": 19,
   "metadata": {
    "collapsed": false
   },
   "outputs": [
    {
     "name": "stdout",
     "output_type": "stream",
     "text": [
      "<class 'pandas.core.frame.DataFrame'>\n",
      "Int64Index: 581012 entries, 0 to 581011\n",
      "Data columns (total 55 columns):\n",
      "Elevation                             581012 non-null int64\n",
      "Aspect                                581012 non-null int64\n",
      "Slope                                 581012 non-null int64\n",
      "Horizontal_Distance_To_Hydrology      581012 non-null int64\n",
      "Vertical_Distance_To_Hydrology        581012 non-null int64\n",
      "Horizontal_Distance_To_Roadways       581012 non-null int64\n",
      "Hillshade_9am                         581012 non-null int64\n",
      "Hillshade_Noon                        581012 non-null int64\n",
      "Hillshade_3pm                         581012 non-null int64\n",
      "Horizontal_Distance_To_Fire_Points    581012 non-null int64\n",
      "Wilderness_Area_0                     581012 non-null bool\n",
      "Wilderness_Area_1                     581012 non-null bool\n",
      "Wilderness_Area_2                     581012 non-null bool\n",
      "Wilderness_Area_3                     581012 non-null bool\n",
      "Soil_Type_0                           581012 non-null bool\n",
      "Soil_Type_1                           581012 non-null bool\n",
      "Soil_Type_2                           581012 non-null bool\n",
      "Soil_Type_3                           581012 non-null bool\n",
      "Soil_Type_4                           581012 non-null bool\n",
      "Soil_Type_5                           581012 non-null bool\n",
      "Soil_Type_6                           581012 non-null bool\n",
      "Soil_Type_7                           581012 non-null bool\n",
      "Soil_Type_8                           581012 non-null bool\n",
      "Soil_Type_9                           581012 non-null bool\n",
      "Soil_Type_10                          581012 non-null bool\n",
      "Soil_Type_11                          581012 non-null bool\n",
      "Soil_Type_12                          581012 non-null bool\n",
      "Soil_Type_13                          581012 non-null bool\n",
      "Soil_Type_14                          581012 non-null bool\n",
      "Soil_Type_15                          581012 non-null bool\n",
      "Soil_Type_16                          581012 non-null bool\n",
      "Soil_Type_17                          581012 non-null bool\n",
      "Soil_Type_18                          581012 non-null bool\n",
      "Soil_Type_19                          581012 non-null bool\n",
      "Soil_Type_20                          581012 non-null bool\n",
      "Soil_Type_21                          581012 non-null bool\n",
      "Soil_Type_22                          581012 non-null bool\n",
      "Soil_Type_23                          581012 non-null bool\n",
      "Soil_Type_24                          581012 non-null bool\n",
      "Soil_Type_25                          581012 non-null bool\n",
      "Soil_Type_26                          581012 non-null bool\n",
      "Soil_Type_27                          581012 non-null bool\n",
      "Soil_Type_28                          581012 non-null bool\n",
      "Soil_Type_29                          581012 non-null bool\n",
      "Soil_Type_30                          581012 non-null bool\n",
      "Soil_Type_31                          581012 non-null bool\n",
      "Soil_Type_32                          581012 non-null bool\n",
      "Soil_Type_33                          581012 non-null bool\n",
      "Soil_Type_34                          581012 non-null bool\n",
      "Soil_Type_35                          581012 non-null bool\n",
      "Soil_Type_36                          581012 non-null bool\n",
      "Soil_Type_37                          581012 non-null bool\n",
      "Soil_Type_38                          581012 non-null bool\n",
      "Soil_Type_39                          581012 non-null bool\n",
      "Test                                  581012 non-null bool\n",
      "dtypes: bool(45), int64(10)\n",
      "memory usage: 73.7 MB\n"
     ]
    }
   ],
   "source": [
    "data.info()"
   ]
  },
  {
   "cell_type": "markdown",
   "metadata": {},
   "source": [
    "### Split the data back to training and testing sets"
   ]
  },
  {
   "cell_type": "code",
   "execution_count": 48,
   "metadata": {
    "collapsed": true
   },
   "outputs": [],
   "source": [
    "train = data[data.Test == 0].drop('Test', axis=1).copy()\n",
    "test = data[data.Test == 1].drop('Test', axis=1).copy()"
   ]
  },
  {
   "cell_type": "markdown",
   "metadata": {},
   "source": [
    "### Prepare X and y matrices"
   ]
  },
  {
   "cell_type": "code",
   "execution_count": 50,
   "metadata": {
    "collapsed": true
   },
   "outputs": [],
   "source": [
    "X = train\n",
    "y = coverType\n",
    "\n",
    "le = LabelEncoder()\n",
    "y = le.fit_transform(y)"
   ]
  },
  {
   "cell_type": "markdown",
   "metadata": {},
   "source": [
    "## Logistic regression"
   ]
  },
  {
   "cell_type": "code",
   "execution_count": 52,
   "metadata": {
    "collapsed": false
   },
   "outputs": [],
   "source": [
    "Xtr, Xval, ytr, yval = train_test_split(X, y, test_size=0.15, random_state=777)"
   ]
  },
  {
   "cell_type": "code",
   "execution_count": 53,
   "metadata": {
    "collapsed": false
   },
   "outputs": [
    {
     "data": {
      "text/plain": [
       "((468360, 54), (82652, 54))"
      ]
     },
     "execution_count": 53,
     "metadata": {},
     "output_type": "execute_result"
    }
   ],
   "source": [
    "Xtr.shape, Xval.shape"
   ]
  },
  {
   "cell_type": "code",
   "execution_count": 54,
   "metadata": {
    "collapsed": false
   },
   "outputs": [
    {
     "data": {
      "text/plain": [
       "LogisticRegression(C=1.0, class_weight=None, dual=False, fit_intercept=True,\n",
       "          intercept_scaling=1, max_iter=100, multi_class='ovr', n_jobs=1,\n",
       "          penalty='l2', random_state=None, solver='liblinear', tol=0.0001,\n",
       "          verbose=0, warm_start=False)"
      ]
     },
     "execution_count": 54,
     "metadata": {},
     "output_type": "execute_result"
    }
   ],
   "source": [
    "lr = LogisticRegression()\n",
    "lr.fit(Xtr, ytr)"
   ]
  },
  {
   "cell_type": "code",
   "execution_count": 57,
   "metadata": {
    "collapsed": false
   },
   "outputs": [
    {
     "name": "stdout",
     "output_type": "stream",
     "text": [
      "Train logloss 0.672317744626\n",
      "Validation logloss 0.676026600904\n"
     ]
    }
   ],
   "source": [
    "print('Train logloss', log_loss(ytr, lr.predict_proba(Xtr)))\n",
    "print('Validation logloss', log_loss(yval, lr.predict_proba(Xval)))"
   ]
  },
  {
   "cell_type": "markdown",
   "metadata": {},
   "source": [
    "### Hyperparameter optimization"
   ]
  },
  {
   "cell_type": "code",
   "execution_count": 59,
   "metadata": {
    "collapsed": false
   },
   "outputs": [
    {
     "data": {
      "text/plain": [
       "array([  1.00000000e-04,   3.72759372e-04,   1.38949549e-03,\n",
       "         5.17947468e-03,   1.93069773e-02,   7.19685673e-02,\n",
       "         2.68269580e-01,   1.00000000e+00,   3.72759372e+00,\n",
       "         1.38949549e+01,   5.17947468e+01,   1.93069773e+02,\n",
       "         7.19685673e+02,   2.68269580e+03,   1.00000000e+04])"
      ]
     },
     "execution_count": 59,
     "metadata": {},
     "output_type": "execute_result"
    }
   ],
   "source": [
    "Cs = 10**np.linspace(-4, 4, num=15)\n",
    "Cs"
   ]
  },
  {
   "cell_type": "code",
   "execution_count": 60,
   "metadata": {
    "collapsed": true
   },
   "outputs": [],
   "source": [
    "grid = {'C': Cs}\n",
    "gridsearch = GridSearchCV(LogisticRegression(), grid, scoring='log_loss', cv=6)"
   ]
  },
  {
   "cell_type": "code",
   "execution_count": null,
   "metadata": {
    "collapsed": true
   },
   "outputs": [],
   "source": [
    "%time gridsearch.fit(X, y)"
   ]
  },
  {
   "cell_type": "code",
   "execution_count": null,
   "metadata": {
    "collapsed": true
   },
   "outputs": [],
   "source": []
  }
 ],
 "metadata": {
  "kernelspec": {
   "display_name": "Python 3",
   "language": "python",
   "name": "python3"
  },
  "language_info": {
   "codemirror_mode": {
    "name": "ipython",
    "version": 3
   },
   "file_extension": ".py",
   "mimetype": "text/x-python",
   "name": "python",
   "nbconvert_exporter": "python",
   "pygments_lexer": "ipython3",
   "version": "3.5.1"
  }
 },
 "nbformat": 4,
 "nbformat_minor": 0
}
